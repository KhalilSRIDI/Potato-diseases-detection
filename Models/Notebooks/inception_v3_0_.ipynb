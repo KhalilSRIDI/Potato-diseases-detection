{
  "cells": [
    {
      "cell_type": "code",
      "execution_count": 46,
      "id": "12c86a2e",
      "metadata": {
        "execution": {
          "iopub.execute_input": "2021-07-19T14:38:25.460332Z",
          "iopub.status.busy": "2021-07-19T14:38:25.459792Z",
          "iopub.status.idle": "2021-07-19T14:38:29.972136Z",
          "shell.execute_reply": "2021-07-19T14:38:29.971172Z",
          "shell.execute_reply.started": "2021-07-19T14:36:45.188163Z"
        },
        "papermill": {
          "duration": 4.541836,
          "end_time": "2021-07-19T14:38:29.972379",
          "exception": false,
          "start_time": "2021-07-19T14:38:25.430543",
          "status": "completed"
        },
        "tags": [],
        "colab": {
          "base_uri": "https://localhost:8080/"
        },
        "id": "12c86a2e",
        "outputId": "42af84ac-6763-474a-d0d5-b5b6095de2e4"
      },
      "outputs": [
        {
          "output_type": "stream",
          "name": "stdout",
          "text": [
            "Done importing packages!\n"
          ]
        }
      ],
      "source": [
        "import numpy as np\n",
        "from re import sub\n",
        "import tensorflow as tf\n",
        "import seaborn as sns\n",
        "import glob\n",
        "import cv2\n",
        "import os\n",
        "import matplotlib.image as mpimg\n",
        "import random\n",
        "import matplotlib.colors as mcolors\n",
        "from tensorflow.keras.models import Sequential\n",
        "from tensorflow.keras.layers import BatchNormalization,Conv2D,MaxPooling2D,Activation, Flatten, Dropout, Dense , MaxPool2D ,Input,GlobalAveragePooling2D,Average,AveragePooling2D,GlobalMaxPooling2D\n",
        "from tensorflow.keras import metrics\n",
        "from tensorflow.keras.optimizers import Adam\n",
        "from tensorflow.keras.preprocessing import image, image_dataset_from_directory\n",
        "from tensorflow.keras.utils import to_categorical\n",
        "from tensorflow.keras.callbacks import ReduceLROnPlateau, ModelCheckpoint, EarlyStopping,TensorBoard \n",
        "from keras.layers import BatchNormalization\n",
        "\n",
        "import matplotlib.pyplot as plt\n",
        "from tensorflow.keras import models\n",
        "import matplotlib.pyplot as plt\n",
        "\n",
        "from sklearn import preprocessing\n",
        "import tensorflow.keras as keras\n",
        "from keras.preprocessing.image import ImageDataGenerator\n",
        "from keras.models import Model\n",
        "import sklearn.metrics as metrics\n",
        "from sklearn.metrics import classification_report\n",
        "print(\"Done importing packages!\")"
      ]
    },
    {
      "cell_type": "code",
      "source": [
        "from google.colab import drive\n",
        "drive.mount('/content/drive')"
      ],
      "metadata": {
        "colab": {
          "base_uri": "https://localhost:8080/"
        },
        "id": "Q995rnAckZlQ",
        "outputId": "5ec241bd-317e-4523-d397-be62ed8cc8b4"
      },
      "id": "Q995rnAckZlQ",
      "execution_count": 2,
      "outputs": [
        {
          "output_type": "stream",
          "name": "stdout",
          "text": [
            "Mounted at /content/drive\n"
          ]
        }
      ]
    },
    {
      "cell_type": "code",
      "execution_count": 3,
      "id": "5d6c2032",
      "metadata": {
        "execution": {
          "iopub.execute_input": "2021-07-19T14:38:30.013555Z",
          "iopub.status.busy": "2021-07-19T14:38:30.012927Z",
          "iopub.status.idle": "2021-07-19T14:39:14.911924Z",
          "shell.execute_reply": "2021-07-19T14:39:14.911013Z",
          "shell.execute_reply.started": "2021-07-19T14:36:45.499707Z"
        },
        "papermill": {
          "duration": 44.922281,
          "end_time": "2021-07-19T14:39:14.912070",
          "exception": false,
          "start_time": "2021-07-19T14:38:29.989789",
          "status": "completed"
        },
        "tags": [],
        "colab": {
          "base_uri": "https://localhost:8080/"
        },
        "id": "5d6c2032",
        "outputId": "25c68008-ff1f-4f2e-9900-2781acbc651b"
      },
      "outputs": [
        {
          "output_type": "stream",
          "name": "stdout",
          "text": [
            "Found 497 files belonging to 3 classes.\n",
            "Using 398 files for training.\n",
            "Found 497 files belonging to 3 classes.\n",
            "Using 99 files for validation.\n"
          ]
        }
      ],
      "source": [
        "BATCH_SIZE = 32\n",
        "IMG_SIZE = (255, 255)\n",
        "\n",
        "data_dir = \"/content/drive/MyDrive/test_dataset/potato_desease_detection/color\"\n",
        "train_dataset = image_dataset_from_directory(data_dir,\n",
        "                                             shuffle=True,\n",
        "                                             label_mode = 'categorical',\n",
        "                                             validation_split = 0.2,\n",
        "                                             batch_size=BATCH_SIZE,\n",
        "                                             seed = 42,\n",
        "                                             subset = \"training\",\n",
        "                                             image_size=IMG_SIZE)\n",
        "\n",
        "validation_dataset = image_dataset_from_directory(data_dir,\n",
        "                                             shuffle=True,\n",
        "                                             label_mode = 'categorical',\n",
        "                                             validation_split = 0.2,\n",
        "                                             batch_size=BATCH_SIZE,\n",
        "                                             seed = 42,\n",
        "                                             subset = \"validation\",\n",
        "                                             image_size=IMG_SIZE)"
      ]
    },
    {
      "cell_type": "code",
      "execution_count": 4,
      "id": "d1a6df3b",
      "metadata": {
        "execution": {
          "iopub.execute_input": "2021-07-19T14:39:14.954768Z",
          "iopub.status.busy": "2021-07-19T14:39:14.947563Z",
          "iopub.status.idle": "2021-07-19T14:39:14.961311Z",
          "shell.execute_reply": "2021-07-19T14:39:14.960859Z",
          "shell.execute_reply.started": "2021-07-19T14:36:51.529195Z"
        },
        "papermill": {
          "duration": 0.034147,
          "end_time": "2021-07-19T14:39:14.961424",
          "exception": false,
          "start_time": "2021-07-19T14:39:14.927277",
          "status": "completed"
        },
        "tags": [],
        "colab": {
          "base_uri": "https://localhost:8080/"
        },
        "id": "d1a6df3b",
        "outputId": "8bfa8a83-b17c-4fd5-9af4-204225566b0f"
      },
      "outputs": [
        {
          "output_type": "stream",
          "name": "stdout",
          "text": [
            "1.  Early_blight\n",
            "2.  Late_blight\n",
            "3.  healthy\n"
          ]
        }
      ],
      "source": [
        "class_names = train_dataset.class_names\n",
        "num_classes = len(class_names)\n",
        "\n",
        "for i in range(1, num_classes + 1):\n",
        "    print(str(i) + \". \", class_names[i - 1])"
      ]
    },
    {
      "cell_type": "code",
      "execution_count": 5,
      "id": "9f42d8ad",
      "metadata": {
        "execution": {
          "iopub.execute_input": "2021-07-19T14:39:14.994251Z",
          "iopub.status.busy": "2021-07-19T14:39:14.993557Z",
          "iopub.status.idle": "2021-07-19T14:39:15.003232Z",
          "shell.execute_reply": "2021-07-19T14:39:15.002822Z",
          "shell.execute_reply.started": "2021-07-19T14:36:51.546509Z"
        },
        "papermill": {
          "duration": 0.027775,
          "end_time": "2021-07-19T14:39:15.003345",
          "exception": false,
          "start_time": "2021-07-19T14:39:14.975570",
          "status": "completed"
        },
        "tags": [],
        "colab": {
          "base_uri": "https://localhost:8080/"
        },
        "id": "9f42d8ad",
        "outputId": "801687b7-1499-4701-c74e-9a90232e836c"
      },
      "outputs": [
        {
          "output_type": "stream",
          "name": "stdout",
          "text": [
            "Number of validation batches: 4\n",
            "Number of test batches: 0\n"
          ]
        }
      ],
      "source": [
        "val_batches = tf.data.experimental.cardinality(validation_dataset)\n",
        "test_dataset = validation_dataset.take(val_batches // 5)\n",
        "validation_dataset = validation_dataset.skip(val_batches // 5)\n",
        "\n",
        "print('Number of validation batches: %d' % tf.data.experimental.cardinality(validation_dataset))\n",
        "print('Number of test batches: %d' % tf.data.experimental.cardinality(test_dataset))"
      ]
    },
    {
      "cell_type": "code",
      "execution_count": 6,
      "id": "9c21637a",
      "metadata": {
        "execution": {
          "iopub.execute_input": "2021-07-19T14:39:15.037283Z",
          "iopub.status.busy": "2021-07-19T14:39:15.036607Z",
          "iopub.status.idle": "2021-07-19T14:39:15.041155Z",
          "shell.execute_reply": "2021-07-19T14:39:15.041573Z",
          "shell.execute_reply.started": "2021-07-19T14:36:51.560718Z"
        },
        "papermill": {
          "duration": 0.02375,
          "end_time": "2021-07-19T14:39:15.041711",
          "exception": false,
          "start_time": "2021-07-19T14:39:15.017961",
          "status": "completed"
        },
        "tags": [],
        "id": "9c21637a"
      },
      "outputs": [],
      "source": [
        "AUTOTUNE = tf.data.AUTOTUNE\n",
        "\n",
        "train_dataset = train_dataset.prefetch(buffer_size=AUTOTUNE)\n",
        "validation_dataset = validation_dataset.prefetch(buffer_size=AUTOTUNE)\n",
        "test_dataset = test_dataset.prefetch(buffer_size=AUTOTUNE)"
      ]
    },
    {
      "cell_type": "code",
      "execution_count": 7,
      "id": "9fde3650",
      "metadata": {
        "execution": {
          "iopub.execute_input": "2021-07-19T14:39:15.075080Z",
          "iopub.status.busy": "2021-07-19T14:39:15.074564Z",
          "iopub.status.idle": "2021-07-19T14:39:15.092640Z",
          "shell.execute_reply": "2021-07-19T14:39:15.093018Z",
          "shell.execute_reply.started": "2021-07-19T14:36:51.574775Z"
        },
        "papermill": {
          "duration": 0.036861,
          "end_time": "2021-07-19T14:39:15.093145",
          "exception": false,
          "start_time": "2021-07-19T14:39:15.056284",
          "status": "completed"
        },
        "tags": [],
        "id": "9fde3650"
      },
      "outputs": [],
      "source": [
        "\n",
        "data_augmentation = tf.keras.Sequential([\n",
        "  tf.keras.layers.experimental.preprocessing.RandomFlip('horizontal'),\n",
        "  tf.keras.layers.experimental.preprocessing.RandomRotation(0.2),\n",
        "])"
      ]
    },
    {
      "cell_type": "code",
      "source": [
        "len(train_dataset)"
      ],
      "metadata": {
        "colab": {
          "base_uri": "https://localhost:8080/"
        },
        "id": "QL9v6ZnZBtZq",
        "outputId": "29342413-ad6e-4f93-c0b0-84e14d69349c"
      },
      "id": "QL9v6ZnZBtZq",
      "execution_count": 8,
      "outputs": [
        {
          "output_type": "execute_result",
          "data": {
            "text/plain": [
              "13"
            ]
          },
          "metadata": {},
          "execution_count": 8
        }
      ]
    },
    {
      "cell_type": "code",
      "execution_count": 9,
      "id": "2b6e2780",
      "metadata": {
        "execution": {
          "iopub.execute_input": "2021-07-19T14:39:15.135890Z",
          "iopub.status.busy": "2021-07-19T14:39:15.135313Z",
          "iopub.status.idle": "2021-07-19T14:39:15.148997Z",
          "shell.execute_reply": "2021-07-19T14:39:15.148549Z",
          "shell.execute_reply.started": "2021-07-19T14:36:51.597677Z"
        },
        "papermill": {
          "duration": 0.041058,
          "end_time": "2021-07-19T14:39:15.149126",
          "exception": false,
          "start_time": "2021-07-19T14:39:15.108068",
          "status": "completed"
        },
        "tags": [],
        "id": "2b6e2780"
      },
      "outputs": [],
      "source": [
        "METRICS = [\n",
        "      metrics.CategoricalAccuracy(name='accuracy'),\n",
        "      metrics.Precision(name='precision'),\n",
        "      metrics.Recall(name='recall'),\n",
        "]"
      ]
    },
    {
      "cell_type": "code",
      "execution_count": 10,
      "id": "f494151e",
      "metadata": {
        "execution": {
          "iopub.execute_input": "2021-07-19T14:39:15.191475Z",
          "iopub.status.busy": "2021-07-19T14:39:15.190755Z",
          "iopub.status.idle": "2021-07-19T14:39:17.810131Z",
          "shell.execute_reply": "2021-07-19T14:39:17.809617Z",
          "shell.execute_reply.started": "2021-07-19T14:36:51.624801Z"
        },
        "papermill": {
          "duration": 2.646267,
          "end_time": "2021-07-19T14:39:17.810298",
          "exception": false,
          "start_time": "2021-07-19T14:39:15.164031",
          "status": "completed"
        },
        "tags": [],
        "id": "f494151e",
        "colab": {
          "base_uri": "https://localhost:8080/"
        },
        "outputId": "8ea1182e-521c-41ef-fb4a-b4b3773d86d5"
      },
      "outputs": [
        {
          "output_type": "stream",
          "name": "stdout",
          "text": [
            "Downloading data from https://storage.googleapis.com/tensorflow/keras-applications/inception_v3/inception_v3_weights_tf_dim_ordering_tf_kernels_notop.h5\n",
            "87910968/87910968 [==============================] - 1s 0us/step\n"
          ]
        }
      ],
      "source": [
        "IMG_SHAPE = IMG_SIZE + (3,)\n",
        "preprocess_input = tf.keras.applications.inception_v3.preprocess_input \n",
        "\n",
        "base_model = tf.keras.applications.InceptionV3(\n",
        "                                include_top=False,\n",
        "                                weights=\"imagenet\",\n",
        "                                input_shape=IMG_SHAPE,\n",
        "                            )"
      ]
    },
    {
      "cell_type": "code",
      "execution_count": 11,
      "id": "5e61494c",
      "metadata": {
        "execution": {
          "iopub.execute_input": "2021-07-19T14:39:17.850187Z",
          "iopub.status.busy": "2021-07-19T14:39:17.849672Z",
          "iopub.status.idle": "2021-07-19T14:39:26.236775Z",
          "shell.execute_reply": "2021-07-19T14:39:26.236347Z",
          "shell.execute_reply.started": "2021-07-19T14:36:54.275117Z"
        },
        "papermill": {
          "duration": 8.408371,
          "end_time": "2021-07-19T14:39:26.236902",
          "exception": false,
          "start_time": "2021-07-19T14:39:17.828531",
          "status": "completed"
        },
        "tags": [],
        "colab": {
          "base_uri": "https://localhost:8080/"
        },
        "id": "5e61494c",
        "outputId": "83639107-d412-4544-99d5-dc270a62d8f2"
      },
      "outputs": [
        {
          "output_type": "stream",
          "name": "stdout",
          "text": [
            "(32, 6, 6, 2048)\n"
          ]
        }
      ],
      "source": [
        "image_batch, label_batch = next(iter(train_dataset))\n",
        "feature_batch = base_model(image_batch)\n",
        "print(feature_batch.shape)"
      ]
    },
    {
      "cell_type": "code",
      "execution_count": 12,
      "id": "e775369c",
      "metadata": {
        "execution": {
          "iopub.execute_input": "2021-07-19T14:39:26.286842Z",
          "iopub.status.busy": "2021-07-19T14:39:26.285559Z",
          "iopub.status.idle": "2021-07-19T14:39:26.288340Z",
          "shell.execute_reply": "2021-07-19T14:39:26.287903Z",
          "shell.execute_reply.started": "2021-07-19T14:36:57.516466Z"
        },
        "papermill": {
          "duration": 0.03376,
          "end_time": "2021-07-19T14:39:26.288460",
          "exception": false,
          "start_time": "2021-07-19T14:39:26.254700",
          "status": "completed"
        },
        "tags": [],
        "id": "e775369c"
      },
      "outputs": [],
      "source": [
        "base_model.trainable = True"
      ]
    },
    {
      "cell_type": "code",
      "execution_count": 13,
      "id": "63e19a20",
      "metadata": {
        "execution": {
          "iopub.execute_input": "2021-07-19T14:39:26.330607Z",
          "iopub.status.busy": "2021-07-19T14:39:26.330058Z",
          "iopub.status.idle": "2021-07-19T14:39:26.338946Z",
          "shell.execute_reply": "2021-07-19T14:39:26.339454Z",
          "shell.execute_reply.started": "2021-07-19T14:36:57.533651Z"
        },
        "papermill": {
          "duration": 0.033331,
          "end_time": "2021-07-19T14:39:26.339587",
          "exception": false,
          "start_time": "2021-07-19T14:39:26.306256",
          "status": "completed"
        },
        "tags": [],
        "colab": {
          "base_uri": "https://localhost:8080/"
        },
        "id": "63e19a20",
        "outputId": "f40aea87-9075-426a-fa76-694cd17569d0"
      },
      "outputs": [
        {
          "output_type": "stream",
          "name": "stdout",
          "text": [
            "(32, 2048)\n"
          ]
        }
      ],
      "source": [
        "global_average_layer = tf.keras.layers.GlobalAveragePooling2D()\n",
        "feature_batch_average = global_average_layer(feature_batch)\n",
        "\n",
        "print(feature_batch_average.shape)"
      ]
    },
    {
      "cell_type": "code",
      "execution_count": 14,
      "id": "494b0ff4",
      "metadata": {
        "execution": {
          "iopub.execute_input": "2021-07-19T14:39:26.381768Z",
          "iopub.status.busy": "2021-07-19T14:39:26.380944Z",
          "iopub.status.idle": "2021-07-19T14:39:26.394888Z",
          "shell.execute_reply": "2021-07-19T14:39:26.394488Z",
          "shell.execute_reply.started": "2021-07-19T14:36:57.547004Z"
        },
        "papermill": {
          "duration": 0.03733,
          "end_time": "2021-07-19T14:39:26.395002",
          "exception": false,
          "start_time": "2021-07-19T14:39:26.357672",
          "status": "completed"
        },
        "tags": [],
        "colab": {
          "base_uri": "https://localhost:8080/"
        },
        "id": "494b0ff4",
        "outputId": "e84ba605-13ee-4433-8f35-fad0ae038d14"
      },
      "outputs": [
        {
          "output_type": "stream",
          "name": "stdout",
          "text": [
            "(32, 3)\n"
          ]
        }
      ],
      "source": [
        "prediction_layer = tf.keras.layers.Dense(num_classes, activation=\"softmax\")\n",
        "prediction_batch = prediction_layer(feature_batch_average)\n",
        "print(prediction_batch.shape)"
      ]
    },
    {
      "cell_type": "code",
      "execution_count": 15,
      "id": "afabcd21",
      "metadata": {
        "execution": {
          "iopub.execute_input": "2021-07-19T14:39:26.441165Z",
          "iopub.status.busy": "2021-07-19T14:39:26.438337Z",
          "iopub.status.idle": "2021-07-19T14:39:27.060031Z",
          "shell.execute_reply": "2021-07-19T14:39:27.059544Z",
          "shell.execute_reply.started": "2021-07-19T14:36:57.565314Z"
        },
        "papermill": {
          "duration": 0.647059,
          "end_time": "2021-07-19T14:39:27.060175",
          "exception": false,
          "start_time": "2021-07-19T14:39:26.413116",
          "status": "completed"
        },
        "tags": [],
        "id": "afabcd21"
      },
      "outputs": [],
      "source": [
        "inputs = tf.keras.Input(shape=(255, 255, 3))\n",
        "x = data_augmentation(inputs)\n",
        "x = preprocess_input(x)\n",
        "x = base_model(x, training=True)\n",
        "x = global_average_layer(x)\n",
        "x = tf.keras.layers.Dropout(0.2)(x)\n",
        "outputs = prediction_layer(x)\n",
        "model = tf.keras.Model(inputs, outputs)"
      ]
    },
    {
      "cell_type": "code",
      "execution_count": 16,
      "id": "b3d4f1fe",
      "metadata": {
        "execution": {
          "iopub.execute_input": "2021-07-19T14:39:27.112862Z",
          "iopub.status.busy": "2021-07-19T14:39:27.112027Z",
          "iopub.status.idle": "2021-07-19T14:39:27.119466Z",
          "shell.execute_reply": "2021-07-19T14:39:27.119859Z",
          "shell.execute_reply.started": "2021-07-19T14:36:58.326423Z"
        },
        "papermill": {
          "duration": 0.040723,
          "end_time": "2021-07-19T14:39:27.119995",
          "exception": false,
          "start_time": "2021-07-19T14:39:27.079272",
          "status": "completed"
        },
        "tags": [],
        "colab": {
          "base_uri": "https://localhost:8080/"
        },
        "id": "b3d4f1fe",
        "outputId": "9d1de438-7cde-412b-ef8d-8a8e1c15f44e"
      },
      "outputs": [
        {
          "output_type": "stream",
          "name": "stderr",
          "text": [
            "/usr/local/lib/python3.8/dist-packages/keras/optimizers/optimizer_v2/adam.py:110: UserWarning: The `lr` argument is deprecated, use `learning_rate` instead.\n",
            "  super(Adam, self).__init__(name, **kwargs)\n"
          ]
        }
      ],
      "source": [
        "base_learning_rate = 0.001\n",
        "model.compile(optimizer=tf.keras.optimizers.Adam(lr=base_learning_rate),\n",
        "              loss=tf.keras.losses.CategoricalCrossentropy(from_logits=False),\n",
        "              metrics=METRICS)"
      ]
    },
    {
      "cell_type": "code",
      "execution_count": 17,
      "id": "d8e5d08c",
      "metadata": {
        "execution": {
          "iopub.execute_input": "2021-07-19T14:39:27.180888Z",
          "iopub.status.busy": "2021-07-19T14:39:27.174166Z",
          "iopub.status.idle": "2021-07-19T14:39:27.183833Z",
          "shell.execute_reply": "2021-07-19T14:39:27.184248Z",
          "shell.execute_reply.started": "2021-07-19T14:36:58.350561Z"
        },
        "papermill": {
          "duration": 0.0462,
          "end_time": "2021-07-19T14:39:27.184376",
          "exception": false,
          "start_time": "2021-07-19T14:39:27.138176",
          "status": "completed"
        },
        "tags": [],
        "colab": {
          "base_uri": "https://localhost:8080/"
        },
        "id": "d8e5d08c",
        "outputId": "66ab0635-4d2e-4b6a-ef39-8e01fceee1f5"
      },
      "outputs": [
        {
          "output_type": "stream",
          "name": "stdout",
          "text": [
            "Model: \"model\"\n",
            "_________________________________________________________________\n",
            " Layer (type)                Output Shape              Param #   \n",
            "=================================================================\n",
            " input_2 (InputLayer)        [(None, 255, 255, 3)]     0         \n",
            "                                                                 \n",
            " sequential (Sequential)     (None, 255, 255, 3)       0         \n",
            "                                                                 \n",
            " tf.math.truediv (TFOpLambda  (None, 255, 255, 3)      0         \n",
            " )                                                               \n",
            "                                                                 \n",
            " tf.math.subtract (TFOpLambd  (None, 255, 255, 3)      0         \n",
            " a)                                                              \n",
            "                                                                 \n",
            " inception_v3 (Functional)   (None, 6, 6, 2048)        21802784  \n",
            "                                                                 \n",
            " global_average_pooling2d (G  (None, 2048)             0         \n",
            " lobalAveragePooling2D)                                          \n",
            "                                                                 \n",
            " dropout (Dropout)           (None, 2048)              0         \n",
            "                                                                 \n",
            " dense (Dense)               (None, 3)                 6147      \n",
            "                                                                 \n",
            "=================================================================\n",
            "Total params: 21,808,931\n",
            "Trainable params: 21,774,499\n",
            "Non-trainable params: 34,432\n",
            "_________________________________________________________________\n"
          ]
        }
      ],
      "source": [
        "model.summary()"
      ]
    },
    {
      "cell_type": "code",
      "execution_count": 18,
      "id": "581ae037",
      "metadata": {
        "execution": {
          "iopub.execute_input": "2021-07-19T14:39:27.224741Z",
          "iopub.status.busy": "2021-07-19T14:39:27.224195Z",
          "iopub.status.idle": "2021-07-19T14:39:27.227556Z",
          "shell.execute_reply": "2021-07-19T14:39:27.227957Z",
          "shell.execute_reply.started": "2021-07-19T14:36:58.384405Z"
        },
        "papermill": {
          "duration": 0.025264,
          "end_time": "2021-07-19T14:39:27.228085",
          "exception": false,
          "start_time": "2021-07-19T14:39:27.202821",
          "status": "completed"
        },
        "tags": [],
        "id": "581ae037"
      },
      "outputs": [],
      "source": [
        "initial_epochs = 15"
      ]
    },
    {
      "cell_type": "code",
      "execution_count": 19,
      "id": "a985c9b4",
      "metadata": {
        "execution": {
          "iopub.execute_input": "2021-07-19T14:39:27.271096Z",
          "iopub.status.busy": "2021-07-19T14:39:27.270592Z",
          "iopub.status.idle": "2021-07-19T15:50:45.784460Z",
          "shell.execute_reply": "2021-07-19T15:50:45.785205Z",
          "shell.execute_reply.started": "2021-07-19T14:36:58.392104Z"
        },
        "papermill": {
          "duration": 4278.538583,
          "end_time": "2021-07-19T15:50:45.785419",
          "exception": false,
          "start_time": "2021-07-19T14:39:27.246836",
          "status": "completed"
        },
        "tags": [],
        "colab": {
          "base_uri": "https://localhost:8080/"
        },
        "id": "a985c9b4",
        "outputId": "8501ca12-7d7b-44b9-82af-e5cdedafe3f4"
      },
      "outputs": [
        {
          "output_type": "stream",
          "name": "stdout",
          "text": [
            "Epoch 1/15\n",
            "13/13 [==============================] - 338s 25s/step - loss: 0.3164 - accuracy: 0.8744 - precision: 0.9103 - recall: 0.8417 - val_loss: 0.2502 - val_accuracy: 0.9293 - val_precision: 0.9381 - val_recall: 0.9192\n",
            "Epoch 2/15\n",
            "13/13 [==============================] - 280s 22s/step - loss: 0.1642 - accuracy: 0.9623 - precision: 0.9670 - recall: 0.9573 - val_loss: 0.1018 - val_accuracy: 0.9697 - val_precision: 0.9697 - val_recall: 0.9697\n",
            "Epoch 3/15\n",
            "13/13 [==============================] - 281s 21s/step - loss: 0.0387 - accuracy: 0.9824 - precision: 0.9924 - recall: 0.9824 - val_loss: 0.1404 - val_accuracy: 0.9596 - val_precision: 0.9596 - val_recall: 0.9596\n",
            "Epoch 4/15\n",
            "13/13 [==============================] - 278s 21s/step - loss: 0.1307 - accuracy: 0.9724 - precision: 0.9724 - recall: 0.9724 - val_loss: 0.1402 - val_accuracy: 0.9495 - val_precision: 0.9495 - val_recall: 0.9495\n",
            "Epoch 5/15\n",
            "13/13 [==============================] - 278s 21s/step - loss: 0.0576 - accuracy: 0.9799 - precision: 0.9824 - recall: 0.9799 - val_loss: 0.1286 - val_accuracy: 0.9495 - val_precision: 0.9495 - val_recall: 0.9495\n",
            "Epoch 6/15\n",
            "13/13 [==============================] - 278s 21s/step - loss: 0.0393 - accuracy: 0.9950 - precision: 0.9949 - recall: 0.9874 - val_loss: 0.2014 - val_accuracy: 0.9697 - val_precision: 0.9697 - val_recall: 0.9697\n",
            "Epoch 7/15\n",
            "13/13 [==============================] - 283s 22s/step - loss: 0.0154 - accuracy: 0.9950 - precision: 0.9950 - recall: 0.9950 - val_loss: 0.2202 - val_accuracy: 0.9596 - val_precision: 0.9596 - val_recall: 0.9596\n",
            "Epoch 8/15\n",
            "13/13 [==============================] - 282s 22s/step - loss: 0.0164 - accuracy: 0.9950 - precision: 0.9950 - recall: 0.9950 - val_loss: 0.1345 - val_accuracy: 0.9798 - val_precision: 0.9796 - val_recall: 0.9697\n",
            "Epoch 9/15\n",
            "13/13 [==============================] - 298s 23s/step - loss: 0.0307 - accuracy: 0.9849 - precision: 0.9849 - recall: 0.9849 - val_loss: 0.2180 - val_accuracy: 0.9697 - val_precision: 0.9697 - val_recall: 0.9697\n",
            "Epoch 10/15\n",
            "13/13 [==============================] - 278s 21s/step - loss: 0.0539 - accuracy: 0.9849 - precision: 0.9849 - recall: 0.9849 - val_loss: 0.0700 - val_accuracy: 0.9798 - val_precision: 0.9798 - val_recall: 0.9798\n",
            "Epoch 11/15\n",
            "13/13 [==============================] - 280s 21s/step - loss: 0.0460 - accuracy: 0.9799 - precision: 0.9822 - recall: 0.9724 - val_loss: 0.0902 - val_accuracy: 0.9697 - val_precision: 0.9796 - val_recall: 0.9697\n",
            "Epoch 12/15\n",
            "13/13 [==============================] - 280s 22s/step - loss: 0.0210 - accuracy: 0.9975 - precision: 0.9975 - recall: 0.9975 - val_loss: 0.1164 - val_accuracy: 0.9697 - val_precision: 0.9697 - val_recall: 0.9697\n",
            "Epoch 13/15\n",
            "13/13 [==============================] - 282s 22s/step - loss: 0.0389 - accuracy: 0.9899 - precision: 0.9899 - recall: 0.9899 - val_loss: 0.1491 - val_accuracy: 0.9697 - val_precision: 0.9697 - val_recall: 0.9697\n",
            "Epoch 14/15\n",
            "13/13 [==============================] - 282s 22s/step - loss: 0.0366 - accuracy: 0.9874 - precision: 0.9874 - recall: 0.9874 - val_loss: 0.2022 - val_accuracy: 0.9596 - val_precision: 0.9592 - val_recall: 0.9495\n",
            "Epoch 15/15\n",
            "13/13 [==============================] - 281s 22s/step - loss: 0.0201 - accuracy: 0.9899 - precision: 0.9924 - recall: 0.9874 - val_loss: 0.0297 - val_accuracy: 0.9899 - val_precision: 0.9899 - val_recall: 0.9899\n"
          ]
        }
      ],
      "source": [
        "history = model.fit(train_dataset,\n",
        "                    epochs=initial_epochs,\n",
        "                    validation_data=validation_dataset)"
      ]
    },
    {
      "cell_type": "code",
      "source": [
        "# training the model on the test set \n",
        "history = model.fit(test_dataset,\n",
        "                    epochs=initial_epochs)"
      ],
      "metadata": {
        "id": "4oUJ2M5-_OUu"
      },
      "id": "4oUJ2M5-_OUu",
      "execution_count": null,
      "outputs": []
    },
    {
      "cell_type": "code",
      "execution_count": 27,
      "id": "7e7d1f5a",
      "metadata": {
        "execution": {
          "iopub.execute_input": "2021-07-19T15:50:58.106360Z",
          "iopub.status.busy": "2021-07-19T15:50:58.101276Z",
          "iopub.status.idle": "2021-07-19T15:50:58.566405Z",
          "shell.execute_reply": "2021-07-19T15:50:58.566892Z"
        },
        "papermill": {
          "duration": 7.022089,
          "end_time": "2021-07-19T15:50:58.567051",
          "exception": false,
          "start_time": "2021-07-19T15:50:51.544962",
          "status": "completed"
        },
        "tags": [],
        "colab": {
          "base_uri": "https://localhost:8080/"
        },
        "id": "7e7d1f5a",
        "outputId": "491dac1d-298a-4437-e085-ebc450b0e82d"
      },
      "outputs": [
        {
          "output_type": "stream",
          "name": "stdout",
          "text": [
            "\n",
            "Model weights saved!\n"
          ]
        }
      ],
      "source": [
        "\n",
        "# save training weights in h5 file\n",
        "model.save(\"model.h5\")\n",
        "print(\"\\nModel weights saved!\")"
      ]
    },
    {
      "cell_type": "code",
      "source": [
        "# performance evaluation\n",
        "loss = history.history['loss']\n",
        "val_loss = history.history['val_loss']\n",
        "val_accuracy = history.history['val_accuracy']\n",
        "accuracy=history.history['accuracy']\n",
        "plt.figure(figsize=(14, 14))\n",
        "plt.subplot(2, 2, 1)\n",
        "plt.plot(range(15), accuracy, label='Training Accuracy')\n",
        "plt.plot(range(15), val_accuracy, label='Validation Accuracy')\n",
        "plt.legend(loc='lower right')\n",
        "plt.title('Accuracy : Training vs. Validation ')\n",
        "\n",
        "plt.subplot(2, 2, 2)\n",
        "plt.plot(range(15), loss, label='Training Loss')\n",
        "plt.plot(range(15), val_loss, label='Validation Loss')\n",
        "plt.title('Loss : Training vs. Validation ')\n",
        "plt.legend(loc='upper right')\n",
        "plt.show()"
      ],
      "metadata": {
        "colab": {
          "base_uri": "https://localhost:8080/",
          "height": 410
        },
        "id": "6Y21nRdMR_wL",
        "outputId": "7519cc1d-484b-4c53-90c0-0df2a6b60280"
      },
      "id": "6Y21nRdMR_wL",
      "execution_count": 40,
      "outputs": [
        {
          "output_type": "display_data",
          "data": {
            "text/plain": [
              "<Figure size 1008x1008 with 2 Axes>"
            ],
            "image/png": "[encoded data removed]"
          },
          "metadata": {
            "needs_background": "light"
          }
        }
      ]
    },
    {
      "cell_type": "code",
      "source": [],
      "metadata": {
        "id": "VYOnn-boZUIq"
      },
      "id": "VYOnn-boZUIq",
      "execution_count": null,
      "outputs": []
    }
  ],
  "metadata": {
    "kernelspec": {
      "display_name": "Python 3",
      "language": "python",
      "name": "python3"
    },
    "language_info": {
      "codemirror_mode": {
        "name": "ipython",
        "version": 3
      },
      "file_extension": ".py",
      "mimetype": "text/x-python",
      "name": "python",
      "nbconvert_exporter": "python",
      "pygments_lexer": "ipython3",
      "version": "3.7.10"
    },
    "papermill": {
      "default_parameters": {},
      "duration": 4380.402645,
      "end_time": "2021-07-19T15:51:18.841092",
      "environment_variables": {},
      "exception": null,
      "input_path": "__notebook__.ipynb",
      "output_path": "__notebook__.ipynb",
      "parameters": {},
      "start_time": "2021-07-19T14:38:18.438447",
      "version": "2.3.3"
    },
    "colab": {
      "provenance": []
    }
  },
  "nbformat": 4,
  "nbformat_minor": 5
}